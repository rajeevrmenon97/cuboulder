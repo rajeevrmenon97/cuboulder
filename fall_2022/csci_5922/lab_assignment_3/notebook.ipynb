{
 "cells": [
  {
   "cell_type": "markdown",
   "metadata": {},
   "source": [
    "# Problem 1\n",
    "\n",
    "## Imports"
   ]
  },
  {
   "cell_type": "code",
   "execution_count": 1,
   "metadata": {},
   "outputs": [],
   "source": [
    "import os\n",
    "import random\n",
    "import seaborn\n",
    "import numpy as np\n",
    "import pandas as pd\n",
    "import tensorflow as tf\n",
    "from sklearn import metrics\n",
    "import matplotlib.pyplot as plt\n",
    "from sklearn import preprocessing\n",
    "from keras.models import Sequential\n",
    "from keras.initializers import Constant\n",
    "from keras_preprocessing.text import Tokenizer\n",
    "from sklearn.metrics import classification_report\n",
    "from sklearn.model_selection import train_test_split\n",
    "from keras_preprocessing.sequence import pad_sequences\n",
    "from keras.layers import SimpleRNN, Embedding, Dense, LSTM, GRU"
   ]
  },
  {
   "cell_type": "markdown",
   "metadata": {},
   "source": [
    "## Constants"
   ]
  },
  {
   "cell_type": "code",
   "execution_count": 2,
   "metadata": {},
   "outputs": [],
   "source": [
    "RANDOM_SEED = 69\n",
    "NUMBER_OF_EPOCHS = 10\n",
    "BATCH_SIZE = 60\n",
    "NUMBER_OF_WORKERS = 8\n",
    "NUMBER_OF_NODES = 32\n",
    "\n",
    "os.environ['PYTHONHASHSEED']=str(RANDOM_SEED)\n",
    "random.seed(RANDOM_SEED)\n",
    "np.random.seed(RANDOM_SEED)\n",
    "tf.random.set_seed(RANDOM_SEED)"
   ]
  },
  {
   "cell_type": "markdown",
   "metadata": {},
   "source": [
    "## Get spam data from https://archive.ics.uci.edu/ml/machine-learning-databases/00228/smsspamcollection.zip"
   ]
  },
  {
   "cell_type": "code",
   "execution_count": 25,
   "metadata": {},
   "outputs": [
    {
     "data": {
      "text/html": [
       "<div>\n",
       "<style scoped>\n",
       "    .dataframe tbody tr th:only-of-type {\n",
       "        vertical-align: middle;\n",
       "    }\n",
       "\n",
       "    .dataframe tbody tr th {\n",
       "        vertical-align: top;\n",
       "    }\n",
       "\n",
       "    .dataframe thead th {\n",
       "        text-align: right;\n",
       "    }\n",
       "</style>\n",
       "<table border=\"1\" class=\"dataframe\">\n",
       "  <thead>\n",
       "    <tr style=\"text-align: right;\">\n",
       "      <th></th>\n",
       "      <th>Classification</th>\n",
       "      <th>SMS</th>\n",
       "      <th>num_of_words</th>\n",
       "    </tr>\n",
       "  </thead>\n",
       "  <tbody>\n",
       "    <tr>\n",
       "      <th>0</th>\n",
       "      <td>ham</td>\n",
       "      <td>Go until jurong point, crazy.. Available only ...</td>\n",
       "      <td>20</td>\n",
       "    </tr>\n",
       "    <tr>\n",
       "      <th>1</th>\n",
       "      <td>ham</td>\n",
       "      <td>Ok lar... Joking wif u oni...</td>\n",
       "      <td>6</td>\n",
       "    </tr>\n",
       "    <tr>\n",
       "      <th>2</th>\n",
       "      <td>spam</td>\n",
       "      <td>Free entry in 2 a wkly comp to win FA Cup fina...</td>\n",
       "      <td>28</td>\n",
       "    </tr>\n",
       "    <tr>\n",
       "      <th>3</th>\n",
       "      <td>ham</td>\n",
       "      <td>U dun say so early hor... U c already then say...</td>\n",
       "      <td>11</td>\n",
       "    </tr>\n",
       "    <tr>\n",
       "      <th>4</th>\n",
       "      <td>ham</td>\n",
       "      <td>Nah I don't think he goes to usf, he lives aro...</td>\n",
       "      <td>13</td>\n",
       "    </tr>\n",
       "  </tbody>\n",
       "</table>\n",
       "</div>"
      ],
      "text/plain": [
       "  Classification                                                SMS  \\\n",
       "0            ham  Go until jurong point, crazy.. Available only ...   \n",
       "1            ham                      Ok lar... Joking wif u oni...   \n",
       "2           spam  Free entry in 2 a wkly comp to win FA Cup fina...   \n",
       "3            ham  U dun say so early hor... U c already then say...   \n",
       "4            ham  Nah I don't think he goes to usf, he lives aro...   \n",
       "\n",
       "   num_of_words  \n",
       "0            20  \n",
       "1             6  \n",
       "2            28  \n",
       "3            11  \n",
       "4            13  "
      ]
     },
     "execution_count": 25,
     "metadata": {},
     "output_type": "execute_result"
    }
   ],
   "source": [
    "df = pd.read_csv('spam.csv', encoding = 'ISO-8859-1')\n",
    "df.rename(columns={'v1': 'Classification', 'v2': 'SMS'}, inplace=True)\n",
    "df.drop(['Unnamed: 2', 'Unnamed: 3', 'Unnamed: 4'], axis=1, inplace=True)\n",
    "df['num_of_words'] = df['SMS'].str.count(' ') + 1\n",
    "max_length = int(df['num_of_words'].max())\n",
    "df.head()"
   ]
  },
  {
   "cell_type": "markdown",
   "metadata": {},
   "source": [
    "## Function to preprocess the data"
   ]
  },
  {
   "cell_type": "code",
   "execution_count": 4,
   "metadata": {},
   "outputs": [],
   "source": [
    "def preprocess(sms, label, tokenizer, label_encoder):\n",
    "    sequences = tokenizer.texts_to_sequences(sms)\n",
    "    classification = label_encoder.fit_transform(label)\n",
    "    x = pad_sequences(sequences, maxlen=max_length)\n",
    "    y = np.asarray(classification)\n",
    "    return x, y"
   ]
  },
  {
   "cell_type": "markdown",
   "metadata": {},
   "source": [
    "## Preprocess the data"
   ]
  },
  {
   "cell_type": "code",
   "execution_count": 5,
   "metadata": {},
   "outputs": [],
   "source": [
    "sms_train, sms_test, label_train, label_test = train_test_split(df['SMS'].to_numpy(), df['Classification'].to_numpy(), test_size = 0.3, random_state = RANDOM_SEED)\n",
    "\n",
    "tokenizer = Tokenizer()\n",
    "tokenizer.fit_on_texts(sms_train)\n",
    "label_encoder = preprocessing.LabelEncoder()\n",
    "word_index = tokenizer.word_index\n",
    "number_of_tokens = len(word_index) + 1\n",
    "\n",
    "x_train, y_train = preprocess(sms_train, label_train, tokenizer, label_encoder)\n",
    "x_test, y_test = preprocess(sms_test, label_test, tokenizer, label_encoder)"
   ]
  },
  {
   "cell_type": "markdown",
   "metadata": {},
   "source": [
    "## Function to build model"
   ]
  },
  {
   "cell_type": "code",
   "execution_count": 6,
   "metadata": {},
   "outputs": [],
   "source": [
    "def build_model(rnn_layer, embedding_layer, x_train, y_train):\n",
    "    model = Sequential()\n",
    "    model.add(embedding_layer)\n",
    "    model.add(rnn_layer)\n",
    "    model.add(Dense(1, activation='sigmoid'))\n",
    "    model.compile(optimizer='rmsprop', loss='binary_crossentropy', metrics=['acc'])\n",
    "    history = model.fit(x_train, y_train, epochs=NUMBER_OF_EPOCHS, batch_size=BATCH_SIZE, workers=NUMBER_OF_WORKERS)\n",
    "    return model, history\n",
    "\n",
    "def prediction_report(model, x, y):\n",
    "    prediction = model.predict(x)\n",
    "    prediction_bool = np.where(prediction >= 0.5, 1 ,0 )\n",
    "    print(classification_report(y, prediction_bool, target_names=['Ham', 'Spam']))\n",
    "    return prediction_bool"
   ]
  },
  {
   "cell_type": "markdown",
   "metadata": {},
   "source": [
    "## Build vanilla RNN network and get precision and recall"
   ]
  },
  {
   "cell_type": "code",
   "execution_count": 7,
   "metadata": {},
   "outputs": [
    {
     "name": "stdout",
     "output_type": "stream",
     "text": [
      "Epoch 1/10\n"
     ]
    },
    {
     "name": "stderr",
     "output_type": "stream",
     "text": [
      "2022-10-09 23:34:02.772235: W tensorflow/core/platform/profile_utils/cpu_utils.cc:128] Failed to get CPU frequency: 0 Hz\n"
     ]
    },
    {
     "name": "stdout",
     "output_type": "stream",
     "text": [
      "65/65 [==============================] - 1s 13ms/step - loss: 0.2509 - acc: 0.9254\n",
      "Epoch 2/10\n",
      "65/65 [==============================] - 1s 13ms/step - loss: 0.0742 - acc: 0.9818\n",
      "Epoch 3/10\n",
      "65/65 [==============================] - 1s 13ms/step - loss: 0.0433 - acc: 0.9885\n",
      "Epoch 4/10\n",
      "65/65 [==============================] - 1s 12ms/step - loss: 0.0331 - acc: 0.9879\n",
      "Epoch 5/10\n",
      "65/65 [==============================] - 1s 12ms/step - loss: 0.0302 - acc: 0.9905\n",
      "Epoch 6/10\n",
      "65/65 [==============================] - 1s 12ms/step - loss: 0.0111 - acc: 0.9969\n",
      "Epoch 7/10\n",
      "65/65 [==============================] - 1s 12ms/step - loss: 0.0169 - acc: 0.9949\n",
      "Epoch 8/10\n",
      "65/65 [==============================] - 1s 13ms/step - loss: 0.0077 - acc: 0.9979\n",
      "Epoch 9/10\n",
      "65/65 [==============================] - 1s 13ms/step - loss: 0.0046 - acc: 0.9987\n",
      "Epoch 10/10\n",
      "65/65 [==============================] - 1s 13ms/step - loss: 0.0035 - acc: 0.9990\n",
      "53/53 [==============================] - 0s 3ms/step\n",
      "              precision    recall  f1-score   support\n",
      "\n",
      "         Ham       0.98      0.99      0.99      1431\n",
      "        Spam       0.94      0.89      0.91       241\n",
      "\n",
      "    accuracy                           0.98      1672\n",
      "   macro avg       0.96      0.94      0.95      1672\n",
      "weighted avg       0.98      0.98      0.98      1672\n",
      "\n"
     ]
    }
   ],
   "source": [
    "rnn_model, rnn_history = build_model(SimpleRNN(NUMBER_OF_NODES), Embedding(number_of_tokens, NUMBER_OF_NODES), x_train, y_train)\n",
    "rnn_prediction = prediction_report(rnn_model, x_test, y_test)"
   ]
  },
  {
   "cell_type": "markdown",
   "metadata": {},
   "source": [
    "## Build LSTM network and get precision and recall"
   ]
  },
  {
   "cell_type": "code",
   "execution_count": 8,
   "metadata": {},
   "outputs": [
    {
     "name": "stdout",
     "output_type": "stream",
     "text": [
      "Epoch 1/10\n",
      "65/65 [==============================] - 2s 27ms/step - loss: 0.2807 - acc: 0.9010\n",
      "Epoch 2/10\n",
      "65/65 [==============================] - 2s 26ms/step - loss: 0.0901 - acc: 0.9823\n",
      "Epoch 3/10\n",
      "65/65 [==============================] - 2s 26ms/step - loss: 0.0471 - acc: 0.9910\n",
      "Epoch 4/10\n",
      "65/65 [==============================] - 2s 26ms/step - loss: 0.0293 - acc: 0.9946\n",
      "Epoch 5/10\n",
      "65/65 [==============================] - 2s 26ms/step - loss: 0.0198 - acc: 0.9954\n",
      "Epoch 6/10\n",
      "65/65 [==============================] - 2s 27ms/step - loss: 0.0128 - acc: 0.9974\n",
      "Epoch 7/10\n",
      "65/65 [==============================] - 2s 26ms/step - loss: 0.0090 - acc: 0.9985\n",
      "Epoch 8/10\n",
      "65/65 [==============================] - 2s 26ms/step - loss: 0.0074 - acc: 0.9982\n",
      "Epoch 9/10\n",
      "65/65 [==============================] - 2s 26ms/step - loss: 0.0059 - acc: 0.9982\n",
      "Epoch 10/10\n",
      "65/65 [==============================] - 2s 26ms/step - loss: 0.0041 - acc: 0.9985\n",
      "53/53 [==============================] - 0s 5ms/step\n",
      "              precision    recall  f1-score   support\n",
      "\n",
      "         Ham       0.98      1.00      0.99      1431\n",
      "        Spam       1.00      0.90      0.95       241\n",
      "\n",
      "    accuracy                           0.99      1672\n",
      "   macro avg       0.99      0.95      0.97      1672\n",
      "weighted avg       0.99      0.99      0.99      1672\n",
      "\n"
     ]
    }
   ],
   "source": [
    "lstm_model, lstm_history = build_model(LSTM(NUMBER_OF_NODES), Embedding(number_of_tokens, NUMBER_OF_NODES), x_train, y_train)\n",
    "lstm_prediction = prediction_report(lstm_model, x_test, y_test)"
   ]
  },
  {
   "cell_type": "markdown",
   "metadata": {},
   "source": [
    "## Build GRU network and get precision and recall"
   ]
  },
  {
   "cell_type": "code",
   "execution_count": 9,
   "metadata": {},
   "outputs": [
    {
     "name": "stdout",
     "output_type": "stream",
     "text": [
      "Epoch 1/10\n",
      "65/65 [==============================] - 2s 24ms/step - loss: 0.2881 - acc: 0.8908\n",
      "Epoch 2/10\n",
      "65/65 [==============================] - 2s 24ms/step - loss: 0.0604 - acc: 0.9856\n",
      "Epoch 3/10\n",
      "65/65 [==============================] - 2s 24ms/step - loss: 0.0265 - acc: 0.9923\n",
      "Epoch 4/10\n",
      "65/65 [==============================] - 2s 23ms/step - loss: 0.0171 - acc: 0.9962\n",
      "Epoch 5/10\n",
      "65/65 [==============================] - 2s 23ms/step - loss: 0.0118 - acc: 0.9972\n",
      "Epoch 6/10\n",
      "65/65 [==============================] - 2s 23ms/step - loss: 0.0078 - acc: 0.9979\n",
      "Epoch 7/10\n",
      "65/65 [==============================] - 2s 23ms/step - loss: 0.0061 - acc: 0.9987\n",
      "Epoch 8/10\n",
      "65/65 [==============================] - 2s 23ms/step - loss: 0.0048 - acc: 0.9987\n",
      "Epoch 9/10\n",
      "65/65 [==============================] - 2s 23ms/step - loss: 0.0031 - acc: 0.9990\n",
      "Epoch 10/10\n",
      "65/65 [==============================] - 2s 24ms/step - loss: 0.0023 - acc: 0.9990\n",
      "53/53 [==============================] - 0s 5ms/step\n",
      "              precision    recall  f1-score   support\n",
      "\n",
      "         Ham       0.99      1.00      0.99      1431\n",
      "        Spam       0.98      0.93      0.96       241\n",
      "\n",
      "    accuracy                           0.99      1672\n",
      "   macro avg       0.98      0.97      0.97      1672\n",
      "weighted avg       0.99      0.99      0.99      1672\n",
      "\n"
     ]
    }
   ],
   "source": [
    "gru_model, gru_history = build_model(GRU(NUMBER_OF_NODES), Embedding(number_of_tokens, NUMBER_OF_NODES), x_train, y_train)\n",
    "gru_prediction = prediction_report(gru_model, x_test, y_test)"
   ]
  },
  {
   "cell_type": "markdown",
   "metadata": {},
   "source": [
    "## Split test dataset into short, medium and long strings"
   ]
  },
  {
   "cell_type": "code",
   "execution_count": 10,
   "metadata": {},
   "outputs": [],
   "source": [
    "test_df = pd.DataFrame(list(sms_test))\n",
    "test_df.rename(columns={0: 'SMS'}, inplace=True)\n",
    "test_df['length']  = test_df['SMS'].str.len()\n",
    "test_df['label'] = pd.DataFrame(list(label_test))\n",
    "short_test = test_df[test_df['length'] <= test_df['length'].quantile(0.33)]\n",
    "medium_test = test_df[(test_df['length'] > test_df['length'].quantile(0.33)) & (test_df['length'] <= test_df['length'].quantile(0.66))]\n",
    "long_test = test_df[test_df['length'] > test_df['length'].quantile(0.66)]"
   ]
  },
  {
   "cell_type": "markdown",
   "metadata": {},
   "source": [
    "## Predict using all three models on short, medium and long test datasets"
   ]
  },
  {
   "cell_type": "code",
   "execution_count": 11,
   "metadata": {},
   "outputs": [
    {
     "name": "stdout",
     "output_type": "stream",
     "text": [
      "Classification report for Short Messages with Simple RNN Model\n",
      "18/18 [==============================] - 0s 3ms/step\n",
      "              precision    recall  f1-score   support\n",
      "\n",
      "         Ham       1.00      0.99      0.99       560\n",
      "        Spam       0.42      0.71      0.53         7\n",
      "\n",
      "    accuracy                           0.98       567\n",
      "   macro avg       0.71      0.85      0.76       567\n",
      "weighted avg       0.99      0.98      0.99       567\n",
      "\n",
      "Classification report for Medium Messages with Simple RNN Model\n",
      "17/17 [==============================] - 0s 3ms/step\n",
      "              precision    recall  f1-score   support\n",
      "\n",
      "         Ham       0.99      0.99      0.99       514\n",
      "        Spam       0.80      0.73      0.76        22\n",
      "\n",
      "    accuracy                           0.98       536\n",
      "   macro avg       0.89      0.86      0.88       536\n",
      "weighted avg       0.98      0.98      0.98       536\n",
      "\n",
      "Classification report for Long Messages with Simple RNN Model\n",
      "18/18 [==============================] - 0s 2ms/step\n",
      "              precision    recall  f1-score   support\n",
      "\n",
      "         Ham       0.95      0.99      0.97       357\n",
      "        Spam       0.99      0.91      0.95       212\n",
      "\n",
      "    accuracy                           0.96       569\n",
      "   macro avg       0.97      0.95      0.96       569\n",
      "weighted avg       0.96      0.96      0.96       569\n",
      "\n",
      "Classification report for Short Messages with LSTM Model\n",
      "18/18 [==============================] - 0s 5ms/step\n",
      "              precision    recall  f1-score   support\n",
      "\n",
      "         Ham       0.99      1.00      1.00       560\n",
      "        Spam       1.00      0.43      0.60         7\n",
      "\n",
      "    accuracy                           0.99       567\n",
      "   macro avg       1.00      0.71      0.80       567\n",
      "weighted avg       0.99      0.99      0.99       567\n",
      "\n",
      "Classification report for Medium Messages with LSTM Model\n",
      "17/17 [==============================] - 0s 5ms/step\n",
      "              precision    recall  f1-score   support\n",
      "\n",
      "         Ham       0.99      1.00      1.00       514\n",
      "        Spam       1.00      0.77      0.87        22\n",
      "\n",
      "    accuracy                           0.99       536\n",
      "   macro avg       1.00      0.89      0.93       536\n",
      "weighted avg       0.99      0.99      0.99       536\n",
      "\n",
      "Classification report for Long Messages with LSTM Model\n",
      "18/18 [==============================] - 0s 5ms/step\n",
      "              precision    recall  f1-score   support\n",
      "\n",
      "         Ham       0.96      1.00      0.98       357\n",
      "        Spam       1.00      0.93      0.97       212\n",
      "\n",
      "    accuracy                           0.98       569\n",
      "   macro avg       0.98      0.97      0.97       569\n",
      "weighted avg       0.98      0.98      0.98       569\n",
      "\n",
      "Classification report for Short Messages with GRU Model\n",
      "18/18 [==============================] - 0s 5ms/step\n",
      "              precision    recall  f1-score   support\n",
      "\n",
      "         Ham       1.00      1.00      1.00       560\n",
      "        Spam       0.71      0.71      0.71         7\n",
      "\n",
      "    accuracy                           0.99       567\n",
      "   macro avg       0.86      0.86      0.86       567\n",
      "weighted avg       0.99      0.99      0.99       567\n",
      "\n",
      "Classification report for Medium Messages with GRU Model\n",
      "17/17 [==============================] - 0s 5ms/step\n",
      "              precision    recall  f1-score   support\n",
      "\n",
      "         Ham       0.99      1.00      1.00       514\n",
      "        Spam       0.95      0.82      0.88        22\n",
      "\n",
      "    accuracy                           0.99       536\n",
      "   macro avg       0.97      0.91      0.94       536\n",
      "weighted avg       0.99      0.99      0.99       536\n",
      "\n",
      "Classification report for Long Messages with GRU Model\n",
      "18/18 [==============================] - 0s 5ms/step\n",
      "              precision    recall  f1-score   support\n",
      "\n",
      "         Ham       0.97      0.99      0.98       357\n",
      "        Spam       0.99      0.95      0.97       212\n",
      "\n",
      "    accuracy                           0.98       569\n",
      "   macro avg       0.98      0.97      0.98       569\n",
      "weighted avg       0.98      0.98      0.98       569\n",
      "\n"
     ]
    }
   ],
   "source": [
    "for model in [(\"Simple RNN Model\", rnn_model), (\"LSTM Model\", lstm_model), (\"GRU Model\", gru_model)]:\n",
    "    for data in [(\"Short Messages\", short_test), (\"Medium Messages\", medium_test), (\"Long Messages\", long_test)]:\n",
    "        print(\"Classification report for\", data[0], \"with\", model[0])\n",
    "        x, y = preprocess(data[1]['SMS'], data[1]['label'], tokenizer, label_encoder)\n",
    "        prediction_report(model[1], x, y)    "
   ]
  },
  {
   "cell_type": "markdown",
   "metadata": {},
   "source": [
    "# Question 2\n",
    "\n",
    "## Glove embeddings from https://github.com/qizhex/Large-scale-Cloze-Test-Dataset-Created-by-Teachers/raw/master/embed/glove.6B.300d.txt"
   ]
  },
  {
   "cell_type": "code",
   "execution_count": 12,
   "metadata": {},
   "outputs": [],
   "source": [
    "embedding_dim = 300\n",
    "\n",
    "embeddings_index = {}\n",
    "with open('glove.6B.300d.txt') as file:\n",
    "    for line in file:\n",
    "        values = line.split()\n",
    "        word = values[0]\n",
    "        coefs = np.asarray(values[1:], dtype='float32')\n",
    "        embeddings_index[word] = coefs\n",
    "\n",
    "glove_embeddings = np.zeros((number_of_tokens, embedding_dim))\n",
    "for word, i in word_index.items():\n",
    "    if i < number_of_tokens:\n",
    "        embedding_vector = embeddings_index.get(word)\n",
    "        if embedding_vector is not None:\n",
    "            glove_embeddings[i] = embedding_vector"
   ]
  },
  {
   "cell_type": "markdown",
   "metadata": {},
   "source": [
    "## Train model and predict with glove embeddings"
   ]
  },
  {
   "cell_type": "code",
   "execution_count": 13,
   "metadata": {},
   "outputs": [
    {
     "name": "stdout",
     "output_type": "stream",
     "text": [
      "Epoch 1/10\n",
      "65/65 [==============================] - 4s 51ms/step - loss: 0.1798 - acc: 0.9428\n",
      "Epoch 2/10\n",
      "65/65 [==============================] - 3s 52ms/step - loss: 0.0708 - acc: 0.9810\n",
      "Epoch 3/10\n",
      "65/65 [==============================] - 3s 51ms/step - loss: 0.0509 - acc: 0.9849\n",
      "Epoch 4/10\n",
      "65/65 [==============================] - 3s 53ms/step - loss: 0.0399 - acc: 0.9885\n",
      "Epoch 5/10\n",
      "65/65 [==============================] - 4s 54ms/step - loss: 0.0305 - acc: 0.9915\n",
      "Epoch 6/10\n",
      "65/65 [==============================] - 3s 52ms/step - loss: 0.0247 - acc: 0.9938\n",
      "Epoch 7/10\n",
      "65/65 [==============================] - 3s 53ms/step - loss: 0.0171 - acc: 0.9944\n",
      "Epoch 8/10\n",
      "65/65 [==============================] - 3s 52ms/step - loss: 0.0140 - acc: 0.9964\n",
      "Epoch 9/10\n",
      "65/65 [==============================] - 3s 52ms/step - loss: 0.0105 - acc: 0.9972\n",
      "Epoch 10/10\n",
      "65/65 [==============================] - 3s 52ms/step - loss: 0.0076 - acc: 0.9979\n",
      "53/53 [==============================] - 1s 17ms/step\n",
      "              precision    recall  f1-score   support\n",
      "\n",
      "         Ham       0.99      0.99      0.99      1431\n",
      "        Spam       0.96      0.92      0.94       241\n",
      "\n",
      "    accuracy                           0.98      1672\n",
      "   macro avg       0.97      0.96      0.96      1672\n",
      "weighted avg       0.98      0.98      0.98      1672\n",
      "\n"
     ]
    }
   ],
   "source": [
    "layer = Embedding(number_of_tokens, embedding_dim, embeddings_initializer=Constant(glove_embeddings), trainable=False)\n",
    "glove_model, glove_history = build_model(LSTM(NUMBER_OF_NODES), layer, x_train, y_train)\n",
    "glove_prediction = prediction_report(glove_model, x_test, y_test)"
   ]
  },
  {
   "cell_type": "markdown",
   "metadata": {},
   "source": [
    "## Load spacy embeddings"
   ]
  },
  {
   "cell_type": "code",
   "execution_count": 14,
   "metadata": {},
   "outputs": [],
   "source": [
    "import en_core_web_lg\n",
    "nlp = en_core_web_lg.load() \n",
    "\n",
    "spacy_embeddings = np.zeros((number_of_tokens, embedding_dim))\n",
    "for i in range(len(word_index)):\n",
    "  word = list(word_index.keys())[i]\n",
    "  spacy_embeddings[i] = nlp(word).vector"
   ]
  },
  {
   "cell_type": "markdown",
   "metadata": {},
   "source": [
    "## Train and predict using spacy embeddings"
   ]
  },
  {
   "cell_type": "code",
   "execution_count": 15,
   "metadata": {},
   "outputs": [
    {
     "name": "stdout",
     "output_type": "stream",
     "text": [
      "Epoch 1/10\n",
      "65/65 [==============================] - 4s 57ms/step - loss: 0.2816 - acc: 0.8877\n",
      "Epoch 2/10\n",
      "65/65 [==============================] - 4s 58ms/step - loss: 0.1227 - acc: 0.9633\n",
      "Epoch 3/10\n",
      "65/65 [==============================] - 4s 57ms/step - loss: 0.0665 - acc: 0.9841\n",
      "Epoch 4/10\n",
      "65/65 [==============================] - 4s 58ms/step - loss: 0.0396 - acc: 0.9905\n",
      "Epoch 5/10\n",
      "65/65 [==============================] - 4s 58ms/step - loss: 0.0242 - acc: 0.9944\n",
      "Epoch 6/10\n",
      "65/65 [==============================] - 4s 59ms/step - loss: 0.0144 - acc: 0.9962\n",
      "Epoch 7/10\n",
      "65/65 [==============================] - 4s 59ms/step - loss: 0.0108 - acc: 0.9972\n",
      "Epoch 8/10\n",
      "65/65 [==============================] - 4s 60ms/step - loss: 0.0050 - acc: 0.9992\n",
      "Epoch 9/10\n",
      "65/65 [==============================] - 4s 59ms/step - loss: 0.0028 - acc: 0.9997\n",
      "Epoch 10/10\n",
      "65/65 [==============================] - 4s 59ms/step - loss: 0.0018 - acc: 0.9997\n",
      "53/53 [==============================] - 1s 17ms/step\n",
      "              precision    recall  f1-score   support\n",
      "\n",
      "         Ham       0.98      1.00      0.99      1431\n",
      "        Spam       0.98      0.85      0.91       241\n",
      "\n",
      "    accuracy                           0.98      1672\n",
      "   macro avg       0.98      0.93      0.95      1672\n",
      "weighted avg       0.98      0.98      0.98      1672\n",
      "\n"
     ]
    }
   ],
   "source": [
    "layer = Embedding(number_of_tokens, embedding_dim, embeddings_initializer=Constant(spacy_embeddings), trainable=False)\n",
    "spacy_model, spacy_history = build_model(LSTM(NUMBER_OF_NODES), layer, x_train, y_train)\n",
    "spacy_prediction = prediction_report(spacy_model, x_test, y_test)"
   ]
  },
  {
   "cell_type": "markdown",
   "metadata": {},
   "source": [
    "## Function to plot confusion matrix"
   ]
  },
  {
   "cell_type": "code",
   "execution_count": 19,
   "metadata": {},
   "outputs": [],
   "source": [
    "def plot_confusion_matrix(confusion_matrix):\n",
    "    axes = plt.axes()\n",
    "    seaborn.heatmap(confusion_matrix.T, square = True, annot = True, fmt = 'd', cbar = False, ax = axes)\n",
    "    plt.xlabel(\"True\")\n",
    "    plt.ylabel(\"Predicted\")\n",
    "    plt.show()"
   ]
  },
  {
   "cell_type": "markdown",
   "metadata": {},
   "source": [
    "## Plot confusion matrices for both embeddings"
   ]
  },
  {
   "cell_type": "code",
   "execution_count": 20,
   "metadata": {},
   "outputs": [
    {
     "name": "stdout",
     "output_type": "stream",
     "text": [
      "Confusion Matrix for model with Glove embeddings\n"
     ]
    },
    {
     "data": {
      "image/png": "[encoded data removed]",
      "text/plain": [
       "<Figure size 640x480 with 1 Axes>"
      ]
     },
     "metadata": {},
     "output_type": "display_data"
    },
    {
     "name": "stdout",
     "output_type": "stream",
     "text": [
      "Confusion Matrix for model with spaCy embeddings\n"
     ]
    },
    {
     "data": {
      "image/png": "[encoded data removed]",
      "text/plain": [
       "<Figure size 640x480 with 1 Axes>"
      ]
     },
     "metadata": {},
     "output_type": "display_data"
    }
   ],
   "source": [
    "glove_confusion_matrix = metrics.confusion_matrix(y_test, glove_prediction)\n",
    "spacy_confusion_matrix = metrics.confusion_matrix(y_test, spacy_prediction)\n",
    "print(\"Confusion Matrix for model with Glove embeddings\")\n",
    "plot_confusion_matrix(glove_confusion_matrix)\n",
    "print(\"Confusion Matrix for model with spaCy embeddings\")\n",
    "plot_confusion_matrix(spacy_confusion_matrix)\n",
    "    "
   ]
  }
 ],
 "metadata": {
  "kernelspec": {
   "display_name": "Python 3.10.6 64-bit ('base')",
   "language": "python",
   "name": "python3"
  },
  "language_info": {
   "codemirror_mode": {
    "name": "ipython",
    "version": 3
   },
   "file_extension": ".py",
   "mimetype": "text/x-python",
   "name": "python",
   "nbconvert_exporter": "python",
   "pygments_lexer": "ipython3",
   "version": "3.10.6"
  },
  "orig_nbformat": 4,
  "vscode": {
   "interpreter": {
    "hash": "04e8417b498b0d0a896259f3bc486449863aac81a856384e99112c09fdc6c2c8"
   }
  }
 },
 "nbformat": 4,
 "nbformat_minor": 2
}
